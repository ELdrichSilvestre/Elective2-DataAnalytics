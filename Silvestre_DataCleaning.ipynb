{
  "nbformat": 4,
  "nbformat_minor": 0,
  "metadata": {
    "colab": {
      "provenance": []
    },
    "kernelspec": {
      "name": "python3",
      "display_name": "Python 3"
    },
    "language_info": {
      "name": "python"
    }
  },
  "cells": [
    {
      "cell_type": "code",
      "source": [
        "# importing libraries\n",
        "import pandas as pd\n",
        "import matplotlib.pyplot as plt\n",
        "import numpy as np\n",
        "import seaborn as sns\n",
        "import missingno as msno\n",
        "import datetime as dt\n",
        "# read the dataset\n",
        "df = pd.read_csv(\"New-Years-Resolution-Dataset.csv\")"
      ],
      "metadata": {
        "id": "xdn1yo2b42Qv"
      },
      "execution_count": 3,
      "outputs": []
    },
    {
      "cell_type": "markdown",
      "source": [
        "**1**. Check the dataset consent"
      ],
      "metadata": {
        "id": "YNO1alOG5ydU"
      }
    },
    {
      "cell_type": "code",
      "source": [
        "df.head(10)"
      ],
      "metadata": {
        "colab": {
          "base_uri": "https://localhost:8080/",
          "height": 598
        },
        "id": "2uFHFQWQ5YBH",
        "outputId": "cd24c290-5a52-489f-e64a-27389e3f2606"
      },
      "execution_count": 4,
      "outputs": [
        {
          "output_type": "execute_result",
          "data": {
            "text/plain": [
              "                      Timestamp                       Username  \\\n",
              "0   2023/01/09 9:35:16 PM GMT+8                            NaN   \n",
              "1   2023/01/09 9:38:53 PM GMT+8        agentpatatas04@gmai.com   \n",
              "2   2023/01/09 9:41:10 PM GMT+8            pauldegzu@gmail.com   \n",
              "3  2023/01/09 10:55:42 PM GMT+8       seaneric.yusi@tup.edu.ph   \n",
              "4   2023/01/10 9:48:55 AM GMT+8       andrie.millan@tup.edu.ph   \n",
              "5   2023/01/10 9:49:19 AM GMT+8     maryannatmosfera@gmail.com   \n",
              "6   2023/01/10 9:51:03 AM GMT+8        llagasmark123@gmail.com   \n",
              "7   2023/01/10 9:54:25 AM GMT+8  johnllyodatmosfera1@gmail.com   \n",
              "8   2023/01/10 9:55:03 AM GMT+8       rheanamaecruz2@gmail.com   \n",
              "9  2023/01/10 10:04:41 AM GMT+8                            NaN   \n",
              "\n",
              "  I will give my consent to use my personal information for this form.  \\\n",
              "0                                                Yes                     \n",
              "1                                                Yes                     \n",
              "2                                                Yes                     \n",
              "3                                                Yes                     \n",
              "4                                                Yes                     \n",
              "5                                                Yes                     \n",
              "6                                                Yes                     \n",
              "7                                                Yes                     \n",
              "8                                                Yes                     \n",
              "9                                                Yes                     \n",
              "\n",
              "                          Email      Name/Nickname  Age     Sex  \\\n",
              "0   pili.sebastianbach@gmail.com               seb   21    Male   \n",
              "1       agentpatatas04@gmail.com              Mark   22    Male   \n",
              "2            pauldegzu@gmail.com  alexis the great   21    Male   \n",
              "3       seaneric.yusi@tup.edu.ph              Sean   21    Male   \n",
              "4       andrie.millan@tup.edu.ph            Andrie   21    Male   \n",
              "5     maryannatmosfera@gmail.com             meann   25  Female   \n",
              "6        llagasmark123@gmail.com              Mark   22    Male   \n",
              "7  johnllyodatmosfera1@gmail.com              Babi   21    Male   \n",
              "8        cruzrheanamae@gmail.com              Yana   23  Female   \n",
              "9            Lerrainef@gmail.com              Lers   21  Female   \n",
              "\n",
              "  Choose what applies                             My New Years Resolution  \n",
              "0              Student      Let go of a toxic people;Loving yourself more  \n",
              "1              Student  Learn a new skill or hobby;Save more money / s...  \n",
              "2              Student  Learn a new skill or hobby;Save more money / s...  \n",
              "3              Student  Learn a new skill or hobby;Lose Weight;Save mo...  \n",
              "4              Student  Save more money / spend less money;Travel More...  \n",
              "5              Working  Save more money / spend less money;Live life t...  \n",
              "6              Working  Learn a new skill or hobby;Lose Weight;Save mo...  \n",
              "7              Student  Learn a new skill or hobby;Save more money / s...  \n",
              "8              Student  Save more money / spend less money;Study Bette...  \n",
              "9              Working  Learn a new skill or hobby;Lose Weight;Save mo...  "
            ],
            "text/html": [
              "\n",
              "  <div id=\"df-d4e38b55-495f-4e38-b3d1-746c44f3e17c\">\n",
              "    <div class=\"colab-df-container\">\n",
              "      <div>\n",
              "<style scoped>\n",
              "    .dataframe tbody tr th:only-of-type {\n",
              "        vertical-align: middle;\n",
              "    }\n",
              "\n",
              "    .dataframe tbody tr th {\n",
              "        vertical-align: top;\n",
              "    }\n",
              "\n",
              "    .dataframe thead th {\n",
              "        text-align: right;\n",
              "    }\n",
              "</style>\n",
              "<table border=\"1\" class=\"dataframe\">\n",
              "  <thead>\n",
              "    <tr style=\"text-align: right;\">\n",
              "      <th></th>\n",
              "      <th>Timestamp</th>\n",
              "      <th>Username</th>\n",
              "      <th>I will give my consent to use my personal information for this form.</th>\n",
              "      <th>Email</th>\n",
              "      <th>Name/Nickname</th>\n",
              "      <th>Age</th>\n",
              "      <th>Sex</th>\n",
              "      <th>Choose what applies</th>\n",
              "      <th>My New Years Resolution</th>\n",
              "    </tr>\n",
              "  </thead>\n",
              "  <tbody>\n",
              "    <tr>\n",
              "      <th>0</th>\n",
              "      <td>2023/01/09 9:35:16 PM GMT+8</td>\n",
              "      <td>NaN</td>\n",
              "      <td>Yes</td>\n",
              "      <td>pili.sebastianbach@gmail.com</td>\n",
              "      <td>seb</td>\n",
              "      <td>21</td>\n",
              "      <td>Male</td>\n",
              "      <td>Student</td>\n",
              "      <td>Let go of a toxic people;Loving yourself more</td>\n",
              "    </tr>\n",
              "    <tr>\n",
              "      <th>1</th>\n",
              "      <td>2023/01/09 9:38:53 PM GMT+8</td>\n",
              "      <td>agentpatatas04@gmai.com</td>\n",
              "      <td>Yes</td>\n",
              "      <td>agentpatatas04@gmail.com</td>\n",
              "      <td>Mark</td>\n",
              "      <td>22</td>\n",
              "      <td>Male</td>\n",
              "      <td>Student</td>\n",
              "      <td>Learn a new skill or hobby;Save more money / s...</td>\n",
              "    </tr>\n",
              "    <tr>\n",
              "      <th>2</th>\n",
              "      <td>2023/01/09 9:41:10 PM GMT+8</td>\n",
              "      <td>pauldegzu@gmail.com</td>\n",
              "      <td>Yes</td>\n",
              "      <td>pauldegzu@gmail.com</td>\n",
              "      <td>alexis the great</td>\n",
              "      <td>21</td>\n",
              "      <td>Male</td>\n",
              "      <td>Student</td>\n",
              "      <td>Learn a new skill or hobby;Save more money / s...</td>\n",
              "    </tr>\n",
              "    <tr>\n",
              "      <th>3</th>\n",
              "      <td>2023/01/09 10:55:42 PM GMT+8</td>\n",
              "      <td>seaneric.yusi@tup.edu.ph</td>\n",
              "      <td>Yes</td>\n",
              "      <td>seaneric.yusi@tup.edu.ph</td>\n",
              "      <td>Sean</td>\n",
              "      <td>21</td>\n",
              "      <td>Male</td>\n",
              "      <td>Student</td>\n",
              "      <td>Learn a new skill or hobby;Lose Weight;Save mo...</td>\n",
              "    </tr>\n",
              "    <tr>\n",
              "      <th>4</th>\n",
              "      <td>2023/01/10 9:48:55 AM GMT+8</td>\n",
              "      <td>andrie.millan@tup.edu.ph</td>\n",
              "      <td>Yes</td>\n",
              "      <td>andrie.millan@tup.edu.ph</td>\n",
              "      <td>Andrie</td>\n",
              "      <td>21</td>\n",
              "      <td>Male</td>\n",
              "      <td>Student</td>\n",
              "      <td>Save more money / spend less money;Travel More...</td>\n",
              "    </tr>\n",
              "    <tr>\n",
              "      <th>5</th>\n",
              "      <td>2023/01/10 9:49:19 AM GMT+8</td>\n",
              "      <td>maryannatmosfera@gmail.com</td>\n",
              "      <td>Yes</td>\n",
              "      <td>maryannatmosfera@gmail.com</td>\n",
              "      <td>meann</td>\n",
              "      <td>25</td>\n",
              "      <td>Female</td>\n",
              "      <td>Working</td>\n",
              "      <td>Save more money / spend less money;Live life t...</td>\n",
              "    </tr>\n",
              "    <tr>\n",
              "      <th>6</th>\n",
              "      <td>2023/01/10 9:51:03 AM GMT+8</td>\n",
              "      <td>llagasmark123@gmail.com</td>\n",
              "      <td>Yes</td>\n",
              "      <td>llagasmark123@gmail.com</td>\n",
              "      <td>Mark</td>\n",
              "      <td>22</td>\n",
              "      <td>Male</td>\n",
              "      <td>Working</td>\n",
              "      <td>Learn a new skill or hobby;Lose Weight;Save mo...</td>\n",
              "    </tr>\n",
              "    <tr>\n",
              "      <th>7</th>\n",
              "      <td>2023/01/10 9:54:25 AM GMT+8</td>\n",
              "      <td>johnllyodatmosfera1@gmail.com</td>\n",
              "      <td>Yes</td>\n",
              "      <td>johnllyodatmosfera1@gmail.com</td>\n",
              "      <td>Babi</td>\n",
              "      <td>21</td>\n",
              "      <td>Male</td>\n",
              "      <td>Student</td>\n",
              "      <td>Learn a new skill or hobby;Save more money / s...</td>\n",
              "    </tr>\n",
              "    <tr>\n",
              "      <th>8</th>\n",
              "      <td>2023/01/10 9:55:03 AM GMT+8</td>\n",
              "      <td>rheanamaecruz2@gmail.com</td>\n",
              "      <td>Yes</td>\n",
              "      <td>cruzrheanamae@gmail.com</td>\n",
              "      <td>Yana</td>\n",
              "      <td>23</td>\n",
              "      <td>Female</td>\n",
              "      <td>Student</td>\n",
              "      <td>Save more money / spend less money;Study Bette...</td>\n",
              "    </tr>\n",
              "    <tr>\n",
              "      <th>9</th>\n",
              "      <td>2023/01/10 10:04:41 AM GMT+8</td>\n",
              "      <td>NaN</td>\n",
              "      <td>Yes</td>\n",
              "      <td>Lerrainef@gmail.com</td>\n",
              "      <td>Lers</td>\n",
              "      <td>21</td>\n",
              "      <td>Female</td>\n",
              "      <td>Working</td>\n",
              "      <td>Learn a new skill or hobby;Lose Weight;Save mo...</td>\n",
              "    </tr>\n",
              "  </tbody>\n",
              "</table>\n",
              "</div>\n",
              "      <button class=\"colab-df-convert\" onclick=\"convertToInteractive('df-d4e38b55-495f-4e38-b3d1-746c44f3e17c')\"\n",
              "              title=\"Convert this dataframe to an interactive table.\"\n",
              "              style=\"display:none;\">\n",
              "        \n",
              "  <svg xmlns=\"http://www.w3.org/2000/svg\" height=\"24px\"viewBox=\"0 0 24 24\"\n",
              "       width=\"24px\">\n",
              "    <path d=\"M0 0h24v24H0V0z\" fill=\"none\"/>\n",
              "    <path d=\"M18.56 5.44l.94 2.06.94-2.06 2.06-.94-2.06-.94-.94-2.06-.94 2.06-2.06.94zm-11 1L8.5 8.5l.94-2.06 2.06-.94-2.06-.94L8.5 2.5l-.94 2.06-2.06.94zm10 10l.94 2.06.94-2.06 2.06-.94-2.06-.94-.94-2.06-.94 2.06-2.06.94z\"/><path d=\"M17.41 7.96l-1.37-1.37c-.4-.4-.92-.59-1.43-.59-.52 0-1.04.2-1.43.59L10.3 9.45l-7.72 7.72c-.78.78-.78 2.05 0 2.83L4 21.41c.39.39.9.59 1.41.59.51 0 1.02-.2 1.41-.59l7.78-7.78 2.81-2.81c.8-.78.8-2.07 0-2.86zM5.41 20L4 18.59l7.72-7.72 1.47 1.35L5.41 20z\"/>\n",
              "  </svg>\n",
              "      </button>\n",
              "      \n",
              "  <style>\n",
              "    .colab-df-container {\n",
              "      display:flex;\n",
              "      flex-wrap:wrap;\n",
              "      gap: 12px;\n",
              "    }\n",
              "\n",
              "    .colab-df-convert {\n",
              "      background-color: #E8F0FE;\n",
              "      border: none;\n",
              "      border-radius: 50%;\n",
              "      cursor: pointer;\n",
              "      display: none;\n",
              "      fill: #1967D2;\n",
              "      height: 32px;\n",
              "      padding: 0 0 0 0;\n",
              "      width: 32px;\n",
              "    }\n",
              "\n",
              "    .colab-df-convert:hover {\n",
              "      background-color: #E2EBFA;\n",
              "      box-shadow: 0px 1px 2px rgba(60, 64, 67, 0.3), 0px 1px 3px 1px rgba(60, 64, 67, 0.15);\n",
              "      fill: #174EA6;\n",
              "    }\n",
              "\n",
              "    [theme=dark] .colab-df-convert {\n",
              "      background-color: #3B4455;\n",
              "      fill: #D2E3FC;\n",
              "    }\n",
              "\n",
              "    [theme=dark] .colab-df-convert:hover {\n",
              "      background-color: #434B5C;\n",
              "      box-shadow: 0px 1px 3px 1px rgba(0, 0, 0, 0.15);\n",
              "      filter: drop-shadow(0px 1px 2px rgba(0, 0, 0, 0.3));\n",
              "      fill: #FFFFFF;\n",
              "    }\n",
              "  </style>\n",
              "\n",
              "      <script>\n",
              "        const buttonEl =\n",
              "          document.querySelector('#df-d4e38b55-495f-4e38-b3d1-746c44f3e17c button.colab-df-convert');\n",
              "        buttonEl.style.display =\n",
              "          google.colab.kernel.accessAllowed ? 'block' : 'none';\n",
              "\n",
              "        async function convertToInteractive(key) {\n",
              "          const element = document.querySelector('#df-d4e38b55-495f-4e38-b3d1-746c44f3e17c');\n",
              "          const dataTable =\n",
              "            await google.colab.kernel.invokeFunction('convertToInteractive',\n",
              "                                                     [key], {});\n",
              "          if (!dataTable) return;\n",
              "\n",
              "          const docLinkHtml = 'Like what you see? Visit the ' +\n",
              "            '<a target=\"_blank\" href=https://colab.research.google.com/notebooks/data_table.ipynb>data table notebook</a>'\n",
              "            + ' to learn more about interactive tables.';\n",
              "          element.innerHTML = '';\n",
              "          dataTable['output_type'] = 'display_data';\n",
              "          await google.colab.output.renderOutput(dataTable, element);\n",
              "          const docLink = document.createElement('div');\n",
              "          docLink.innerHTML = docLinkHtml;\n",
              "          element.appendChild(docLink);\n",
              "        }\n",
              "      </script>\n",
              "    </div>\n",
              "  </div>\n",
              "  "
            ]
          },
          "metadata": {},
          "execution_count": 4
        }
      ]
    },
    {
      "cell_type": "markdown",
      "source": [
        "***2***. Check info"
      ],
      "metadata": {
        "id": "uo6wpNh55-nb"
      }
    },
    {
      "cell_type": "code",
      "source": [
        "df.info(10)"
      ],
      "metadata": {
        "colab": {
          "base_uri": "https://localhost:8080/"
        },
        "id": "FF7B8DxQ6Cmj",
        "outputId": "9d10fd7f-a529-45d4-b96a-14844a82be19"
      },
      "execution_count": 9,
      "outputs": [
        {
          "output_type": "stream",
          "name": "stdout",
          "text": [
            "<class 'pandas.core.frame.DataFrame'>\n",
            "RangeIndex: 51 entries, 0 to 50\n",
            "Data columns (total 9 columns):\n",
            " #   Column                                                                Non-Null Count  Dtype \n",
            "---  ------                                                                --------------  ----- \n",
            " 0   Timestamp                                                             51 non-null     object\n",
            " 1   Username                                                              8 non-null      object\n",
            " 2   I will give my consent to use my personal information for this form.  51 non-null     object\n",
            " 3   Email                                                                 51 non-null     object\n",
            " 4   Name/Nickname                                                         51 non-null     object\n",
            " 5   Age                                                                   51 non-null     int64 \n",
            " 6   Sex                                                                   51 non-null     object\n",
            " 7   Choose what applies                                                   51 non-null     object\n",
            " 8   My New Years Resolution                                               51 non-null     object\n",
            "dtypes: int64(1), object(8)\n",
            "memory usage: 3.7+ KB\n"
          ]
        }
      ]
    },
    {
      "cell_type": "markdown",
      "source": [
        "**3**. Display data types"
      ],
      "metadata": {
        "id": "0UPeZXFm6Ltv"
      }
    },
    {
      "cell_type": "code",
      "source": [
        "df.dtypes"
      ],
      "metadata": {
        "colab": {
          "base_uri": "https://localhost:8080/"
        },
        "id": "_e7kPLFE6Oh6",
        "outputId": "4c106e87-0eaa-4cf6-d9c3-7ef9c105ebfa"
      },
      "execution_count": 10,
      "outputs": [
        {
          "output_type": "execute_result",
          "data": {
            "text/plain": [
              "Timestamp                                                               object\n",
              "Username                                                                object\n",
              "I will give my consent to use my personal information for this form.    object\n",
              "Email                                                                   object\n",
              "Name/Nickname                                                           object\n",
              "Age                                                                      int64\n",
              "Sex                                                                     object\n",
              "Choose what applies                                                     object\n",
              "My New Years Resolution                                                 object\n",
              "dtype: object"
            ]
          },
          "metadata": {},
          "execution_count": 10
        }
      ]
    },
    {
      "cell_type": "markdown",
      "source": [
        "**4**. Choose column to change the data types"
      ],
      "metadata": {
        "id": "R7CPr4LS6TeW"
      }
    },
    {
      "cell_type": "code",
      "source": [
        "df.columns"
      ],
      "metadata": {
        "colab": {
          "base_uri": "https://localhost:8080/"
        },
        "id": "Rj_sBovv6WeW",
        "outputId": "3f0776c8-a180-42a9-efc6-bc4745ee9062"
      },
      "execution_count": 11,
      "outputs": [
        {
          "output_type": "execute_result",
          "data": {
            "text/plain": [
              "Index(['Timestamp', 'Username',\n",
              "       'I will give my consent to use my personal information for this form.',\n",
              "       'Email ', 'Name/Nickname', 'Age', 'Sex', 'Choose what applies ',\n",
              "       'My New Years Resolution'],\n",
              "      dtype='object')"
            ]
          },
          "metadata": {},
          "execution_count": 11
        }
      ]
    },
    {
      "cell_type": "code",
      "source": [
        "#Can't chart the user input, too many inputs\n",
        "\n",
        "print(\"\\n\")\n",
        "#Age\n",
        "ageGroup = df.groupby('Age').size()\n",
        "ageGroup.plot.pie(autopct='%1.5f%%')\n",
        "plt.title(\"Percentage of Age Group\")\n",
        "plt.show()\n",
        "\n",
        "print(\"\\n\")\n",
        "#Gender \n",
        "SexGroup = df.groupby('Sex').size()\n",
        "SexGroup.plot.pie(autopct='%1.5f%%')\n",
        "plt.title(\"Percentage of Gender\")\n",
        "plt.show()\n",
        "\n",
        "print(\"\\n\")\n",
        "#Professional Status\n",
        "StatGroup = df.groupby('Choose what applies ').size()\n",
        "StatGroup.plot.pie(autopct='%1.5f%%')\n",
        "plt.title(\"Percentage of Professional Status\")\n",
        "plt.show()\n"
      ],
      "metadata": {
        "colab": {
          "base_uri": "https://localhost:8080/",
          "height": 862
        },
        "id": "1tXhczKU6bD5",
        "outputId": "d54f1460-bb6b-40cd-b810-1e2dab11f2f8"
      },
      "execution_count": 12,
      "outputs": [
        {
          "output_type": "stream",
          "name": "stdout",
          "text": [
            "\n",
            "\n"
          ]
        },
        {
          "output_type": "display_data",
          "data": {
            "text/plain": [
              "<Figure size 432x288 with 1 Axes>"
            ],
            "image/png": "[encoded data removed]"
          },
          "metadata": {}
        },
        {
          "output_type": "stream",
          "name": "stdout",
          "text": [
            "\n",
            "\n"
          ]
        },
        {
          "output_type": "display_data",
          "data": {
            "text/plain": [
              "<Figure size 432x288 with 1 Axes>"
            ],
            "image/png": "[encoded data removed]"
          },
          "metadata": {}
        },
        {
          "output_type": "stream",
          "name": "stdout",
          "text": [
            "\n",
            "\n"
          ]
        },
        {
          "output_type": "display_data",
          "data": {
            "text/plain": [
              "<Figure size 432x288 with 1 Axes>"
            ],
            "image/png": "[encoded data removed]"
          },
          "metadata": {}
        }
      ]
    },
    {
      "cell_type": "markdown",
      "source": [
        "**6**. Display the descriptive statistics"
      ],
      "metadata": {
        "id": "X7-qZIw06iap"
      }
    },
    {
      "cell_type": "code",
      "source": [
        "print(df.describe())"
      ],
      "metadata": {
        "colab": {
          "base_uri": "https://localhost:8080/"
        },
        "id": "GhxN6KDz6jKm",
        "outputId": "6bc9b48e-9312-4bc1-822d-db30cddb84f8"
      },
      "execution_count": 13,
      "outputs": [
        {
          "output_type": "stream",
          "name": "stdout",
          "text": [
            "             Age\n",
            "count  51.000000\n",
            "mean   21.647059\n",
            "std     2.755529\n",
            "min    13.000000\n",
            "25%    21.000000\n",
            "50%    22.000000\n",
            "75%    22.000000\n",
            "max    31.000000\n"
          ]
        }
      ]
    }
  ]
}